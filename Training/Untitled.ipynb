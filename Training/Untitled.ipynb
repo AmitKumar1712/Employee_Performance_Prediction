{
 "cells": [
  {
   "cell_type": "markdown",
   "id": "788baff6-315b-4038-9c34-cdeecebff09b",
   "metadata": {},
   "source": [
    "###importing library"
   ]
  },
  {
   "cell_type": "code",
   "execution_count": 4,
   "id": "abbc3b75-6b1d-488e-85c8-27c80487b752",
   "metadata": {},
   "outputs": [],
   "source": [
    "import numpy as np\n",
    "import pandas as pd\n",
    "import seaborn as sns\n",
    "import matplotlib.pyplot as plt\n",
    "import MultiColumnLabelEncoder\n",
    "from sklearn.model_selection import train_test_split\n",
    "from sklearn.linear_model import LinearRegression\n",
    "from sklearn.metrics import mean_squared_error\n",
    "from sklearn.metrics import mean_absolute_error\n",
    "from sklearn.metrics import r2_score\n",
    "from sklearn.ensemble import RandomForestRegressor\n",
    "import xgboost as Xgb\n",
    "import pickle"
   ]
  },
  {
   "cell_type": "markdown",
   "id": "e9492a5a-a7ec-4deb-884e-d6d95505ed11",
   "metadata": {},
   "source": [
    "###Read The Data"
   ]
  },
  {
   "cell_type": "code",
   "execution_count": 8,
   "id": "26e15c56-2ec4-4298-a719-1fcda5bd86f8",
   "metadata": {},
   "outputs": [],
   "source": [
    "date=pd.read_csv(\"garments_worker_productivity.csv\")"
   ]
  },
  {
   "cell_type": "code",
   "execution_count": 9,
   "id": "14905a39-cd03-4248-9f6f-a10338a19688",
   "metadata": {},
   "outputs": [
    {
     "ename": "NameError",
     "evalue": "name 'data' is not defined",
     "output_type": "error",
     "traceback": [
      "\u001b[1;31m---------------------------------------------------------------------------\u001b[0m",
      "\u001b[1;31mNameError\u001b[0m                                 Traceback (most recent call last)",
      "Cell \u001b[1;32mIn[9], line 1\u001b[0m\n\u001b[1;32m----> 1\u001b[0m \u001b[43mdata\u001b[49m\u001b[38;5;241m.\u001b[39mhead()\n",
      "\u001b[1;31mNameError\u001b[0m: name 'data' is not defined"
     ]
    }
   ],
   "source": [
    "data.head()"
   ]
  }
 ],
 "metadata": {
  "kernelspec": {
   "display_name": "Python 3 (ipykernel)",
   "language": "python",
   "name": "python3"
  },
  "language_info": {
   "codemirror_mode": {
    "name": "ipython",
    "version": 3
   },
   "file_extension": ".py",
   "mimetype": "text/x-python",
   "name": "python",
   "nbconvert_exporter": "python",
   "pygments_lexer": "ipython3",
   "version": "3.13.2"
  }
 },
 "nbformat": 4,
 "nbformat_minor": 5
}
