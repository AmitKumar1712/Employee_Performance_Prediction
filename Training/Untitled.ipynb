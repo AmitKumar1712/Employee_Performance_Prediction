{
 "cells": [
  {
   "cell_type": "markdown",
   "id": "788baff6-315b-4038-9c34-cdeecebff09b",
   "metadata": {},
   "source": [
    "###importing library"
   ]
  },
  {
   "cell_type": "code",
   "execution_count": null,
   "id": "abbc3b75-6b1d-488e-85c8-27c80487b752",
   "metadata": {},
   "outputs": [],
   "source": [
    "import numpy as np\n",
    "import pandas as pd\n",
    "import seaborn as sns\n",
    "import matplotlib.pyplot as plt\n",
    "import MultiColumnLabelEncoder\n",
    "from sklearn.model_selection import train_test_split\n",
    "from sklearn.linear_model import LinearRegression\n",
    "from sklearn.metrics import mean_squared_error\n",
    "from sklearn.metrics import mean_absolute_error\n",
    "from sklearn.metrics import r2_score\n",
    "from sklearn.ensemble import RandomForestRegressor\n",
    "import xgboost as Xgb\n",
    "import pickle"
   ]
  },
  {
   "cell_type": "markdown",
   "id": "e9492a5a-a7ec-4deb-884e-d6d95505ed11",
   "metadata": {},
   "source": [
    "###Read The Data"
   ]
  },
  {
   "cell_type": "code",
   "execution_count": null,
   "id": "26e15c56-2ec4-4298-a719-1fcda5bd86f8",
   "metadata": {},
   "outputs": [],
   "source": [
    "data=pd.read_csv(\"garments_worker_productivity.csv\")"
   ]
  },
  {
   "cell_type": "code",
   "execution_count": null,
   "id": "14905a39-cd03-4248-9f6f-a10338a19688",
   "metadata": {},
   "outputs": [],
   "source": [
    "data.head()"
   ]
  },
  {
   "cell_type": "markdown",
   "id": "02d40cbc-1afd-49f3-93ed-41c91dd9e9c5",
   "metadata": {},
   "source": [
    "Correlation Analysis"
   ]
  },
  {
   "cell_type": "code",
   "execution_count": null,
   "id": "a0e6f4fe-96ef-4d68-b82f-1b8568bf8627",
   "metadata": {},
   "outputs": [],
   "source": [
    "import seaborn as sns\n",
    "import matplotlib.pyplot as plt\n",
    "numeric_data = data.select_dtypes(include='number')\n",
    "corrMatrix = numeric_data.corr()\n",
    "fig, ax = plt.subplots(figsize=(10, 10))\n",
    "sns.heatmap(corrMatrix, annot=True, linewidths=0.1, ax=ax)\n",
    "plt.show()"
   ]
  },
  {
   "cell_type": "markdown",
   "id": "bd449639-e18c-423a-b165-75d6507006c9",
   "metadata": {},
   "source": [
    "Descriptive Analysis\n"
   ]
  },
  {
   "cell_type": "code",
   "execution_count": null,
   "id": "77142969-3702-419c-8861-fcff0a7a7f75",
   "metadata": {},
   "outputs": [],
   "source": [
    "#descriptive analysis\n",
    "data.describe()"
   ]
  },
  {
   "cell_type": "markdown",
   "id": "3adf20c6-6138-4a68-8f9b-8af2185749d9",
   "metadata": {},
   "source": [
    "Checking For NULL Value"
   ]
  },
  {
   "cell_type": "code",
   "execution_count": null,
   "id": "3d9de41a-be78-40fe-93c5-994bc4d20c6a",
   "metadata": {},
   "outputs": [],
   "source": [
    "data.shape\n",
    "(1197,15)\n",
    "data.info()"
   ]
  },
  {
   "cell_type": "code",
   "execution_count": null,
   "id": "d6c60496-c74c-4a27-9690-aedc84b0ad8d",
   "metadata": {},
   "outputs": [],
   "source": [
    "data.isnull().sum()"
   ]
  },
  {
   "cell_type": "code",
   "execution_count": null,
   "id": "9c40be29-3a7f-4749-a9db-4f287cd611b8",
   "metadata": {},
   "outputs": [],
   "source": [
    "data.drop(['wip'], axis=1, inplace=True, errors='ignore')"
   ]
  },
  {
   "cell_type": "markdown",
   "id": "c1deb95e-f6ad-49cb-96bf-bf1efec78eb0",
   "metadata": {},
   "source": [
    "Handling Data & Department Column"
   ]
  },
  {
   "cell_type": "code",
   "execution_count": null,
   "id": "3a8b1225-f6da-4547-bdcb-0d2066cd6af1",
   "metadata": {},
   "outputs": [],
   "source": [
    "data['date'] = pd.to_datetime(data['date'])"
   ]
  },
  {
   "cell_type": "code",
   "execution_count": null,
   "id": "9771cee8-6962-4c27-8a6b-e91118ba94e2",
   "metadata": {},
   "outputs": [],
   "source": [
    "data.date"
   ]
  },
  {
   "cell_type": "code",
   "execution_count": null,
   "id": "44a3d97c-a597-442f-9f1c-c11adf5c433d",
   "metadata": {},
   "outputs": [],
   "source": [
    "print(data.columns)"
   ]
  },
  {
   "cell_type": "code",
   "execution_count": null,
   "id": "6574c888-978c-4830-b54d-884200857865",
   "metadata": {},
   "outputs": [],
   "source": [
    "data['month']=data['date'].dt.month\n",
    "data.drop(['date'],axis=1, inplace=True)"
   ]
  },
  {
   "cell_type": "code",
   "execution_count": null,
   "id": "103f132d-54e1-4b9c-8a06-70f9861e5ec0",
   "metadata": {},
   "outputs": [],
   "source": [
    "data.month"
   ]
  },
  {
   "cell_type": "code",
   "execution_count": null,
   "id": "58bc8f8a-e50e-49f7-addf-980275ac0633",
   "metadata": {},
   "outputs": [],
   "source": [
    "data['department'].value_counts()"
   ]
  },
  {
   "cell_type": "code",
   "execution_count": null,
   "id": "afeb651c-168a-481c-976d-d5865b477987",
   "metadata": {},
   "outputs": [],
   "source": [
    "#Finishing department is split into 2, we will merge them into 1\n",
    "data['department'] = data['department'].apply(lambda X:'finishing' if X.replace(\"\",\"\")=='finishing' else 'sweing')"
   ]
  },
  {
   "cell_type": "code",
   "execution_count": null,
   "id": "ed5e0d70-0856-4ec2-9672-7ca56ea86e4e",
   "metadata": {},
   "outputs": [],
   "source": [
    "data['department'].value_counts()"
   ]
  },
  {
   "cell_type": "markdown",
   "id": "8d49c7cf-d433-4b8b-bef8-8b86d18fd87c",
   "metadata": {},
   "source": [
    "Handling Categorical Values"
   ]
  },
  {
   "cell_type": "code",
   "execution_count": null,
   "id": "e0d900ef-be29-45d0-a48e-50a122f59966",
   "metadata": {},
   "outputs": [],
   "source": [
    "import MultiColumnLabelEncoder\n",
    "Mcle = MultiColumnLabelEncoder.MultiColumnLabelEncoder()\n",
    "Data = Mcle.fit_transform(data)"
   ]
  },
  {
   "cell_type": "markdown",
   "id": "3cbe2f23-cd8c-4238-8ce6-e1769036aabb",
   "metadata": {},
   "source": [
    "Splitting Data Into Train And Test"
   ]
  },
  {
   "cell_type": "code",
   "execution_count": null,
   "id": "c7db79a0-adcc-4b25-9a2c-74d80aee10b1",
   "metadata": {},
   "outputs": [],
   "source": [
    "x=data.drop(['actual_productivity'],axis=1)\n",
    "y=data['actual_productivity']\n"
   ]
  },
  {
   "cell_type": "code",
   "execution_count": null,
   "id": "8b49fcde-6034-4785-a2ff-947f2f1452c5",
   "metadata": {},
   "outputs": [],
   "source": [
    "X=x.to_numpy()"
   ]
  },
  {
   "cell_type": "code",
   "execution_count": null,
   "id": "eaddba7b-b6dc-472e-aafb-1bd46c267993",
   "metadata": {},
   "outputs": [],
   "source": [
    "X"
   ]
  },
  {
   "cell_type": "code",
   "execution_count": null,
   "id": "0069919b-6527-44ab-9bef-90d4de7163dc",
   "metadata": {},
   "outputs": [],
   "source": [
    "from sklearn.model_selection import train_test_split\n",
    "x_train,x_test,y_train,y_test=train_test_split(X,y,test_size=0.8,random_state=0)"
   ]
  },
  {
   "cell_type": "code",
   "execution_count": null,
   "id": "ad664674-c77a-40e2-84fd-33ad8e4914ce",
   "metadata": {},
   "outputs": [],
   "source": []
  }
 ],
 "metadata": {
  "kernelspec": {
   "display_name": "Python 3 (ipykernel)",
   "language": "python",
   "name": "python3"
  },
  "language_info": {
   "codemirror_mode": {
    "name": "ipython",
    "version": 3
   },
   "file_extension": ".py",
   "mimetype": "text/x-python",
   "name": "python",
   "nbconvert_exporter": "python",
   "pygments_lexer": "ipython3",
   "version": "3.13.2"
  }
 },
 "nbformat": 4,
 "nbformat_minor": 5
}
